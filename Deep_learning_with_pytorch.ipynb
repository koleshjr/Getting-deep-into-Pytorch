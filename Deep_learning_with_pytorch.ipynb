{
  "nbformat": 4,
  "nbformat_minor": 0,
  "metadata": {
    "colab": {
      "provenance": [],
      "authorship_tag": "ABX9TyPDgfpDkowIhH7MbXRo0Nj5",
      "include_colab_link": true
    },
    "kernelspec": {
      "name": "python3",
      "display_name": "Python 3"
    },
    "language_info": {
      "name": "python"
    }
  },
  "cells": [
    {
      "cell_type": "markdown",
      "metadata": {
        "id": "view-in-github",
        "colab_type": "text"
      },
      "source": [
        "<a href=\"https://colab.research.google.com/github/koleshjr/Getting-deep-into-Pytorch/blob/main/Deep_learning_with_pytorch.ipynb\" target=\"_parent\"><img src=\"https://colab.research.google.com/assets/colab-badge.svg\" alt=\"Open In Colab\"/></a>"
      ]
    },
    {
      "cell_type": "markdown",
      "source": [
        "## Intro\n",
        "* If you can build a simple rule based system that satisfies your need don't use machine learning\n",
        "\n",
        "### When is ML suitable?\n",
        "* Problems with long list of rules\n",
        "* Problems with continously changing environment\n",
        "* Problems with huge amounts of data available\n",
        "\n",
        "### When is Ml not suitable\n",
        "* Explaining patterns - lot's of numbers that define patterns and that are not interpretable by humans\n",
        "* When the traditional approach is more suitable \n",
        "* When errors are unacceptable - makes prediction based on probability so not 100% correct\n",
        "* When you don't have much data\n",
        "\n",
        "### ML VS DL\n",
        "* ML - Structured data - tabular data - CatBoost\n",
        "* DL - Unstructured data - Images, Audio, Text e.t.c\n",
        "\n",
        "### What are neeural networks?\n",
        "* inputs -> numerical encoding -> learn representations(patterns) -> outputs -> find a way to reduce the error margin -> convert into human understandable outputs\n",
        "\n",
        "* input layer (where data goes in) -> hidden layer(learns representations) -> output layer(outputs learned representations)\n",
        "\n",
        "* each layer is a combination of a linear function and a non linear function\n",
        "\n",
        "### Types of Learning"
      ],
      "metadata": {
        "id": "tu-ruLNFJE4r"
      }
    },
    {
      "cell_type": "code",
      "source": [],
      "metadata": {
        "id": "sxU968HUJN7a"
      },
      "execution_count": null,
      "outputs": []
    }
  ]
}