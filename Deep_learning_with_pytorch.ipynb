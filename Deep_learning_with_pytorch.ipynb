{
  "nbformat": 4,
  "nbformat_minor": 0,
  "metadata": {
    "colab": {
      "provenance": [],
      "authorship_tag": "ABX9TyPowJxizA44lXS0XHbiFFUt",
      "include_colab_link": true
    },
    "kernelspec": {
      "name": "python3",
      "display_name": "Python 3"
    },
    "language_info": {
      "name": "python"
    }
  },
  "cells": [
    {
      "cell_type": "markdown",
      "metadata": {
        "id": "view-in-github",
        "colab_type": "text"
      },
      "source": [
        "<a href=\"https://colab.research.google.com/github/koleshjr/Getting-deep-into-Pytorch/blob/main/Deep_learning_with_pytorch.ipynb\" target=\"_parent\"><img src=\"https://colab.research.google.com/assets/colab-badge.svg\" alt=\"Open In Colab\"/></a>"
      ]
    },
    {
      "cell_type": "markdown",
      "source": [
        "## Intro\n",
        "* If you can build a simple rule based system that satisfies your need don't use machine learning\n",
        "\n",
        "### When is ML suitable?\n",
        "* Problems with long list of rules\n",
        "* Problems with continously changing environment\n",
        "* Problems with huge amounts of data available\n",
        "\n",
        "### When is Ml not suitable\n",
        "* Explaining patterns - lot's of numbers that define patterns and that are not interpretable by humans\n",
        "* When the traditional approach is more suitable \n",
        "* When errors are unacceptable - makes prediction based on probability so not 100% correct\n",
        "* When you don't have much data\n",
        "\n",
        "### ML VS DL\n",
        "* ML - Structured data - tabular data - CatBoost\n",
        "* DL - Unstructured data - Images, Audio, Text e.t.c\n",
        "\n",
        "### What are neeural networks?\n",
        "* inputs -> numerical encoding -> learn representations(patterns) -> outputs -> find a way to reduce the error margin -> convert into human understandable outputs\n",
        "\n",
        "* input layer (where data goes in) -> hidden layer(learns representations) -> output layer(outputs learned representations)\n",
        "\n",
        "* each layer is a combination of a linear function and a non linear function\n",
        "\n",
        "### Types of Learning\n",
        "* Supervised Learning - uses known set of labels\n",
        "* Unsupervised learning - does not use a set of known labels e.g clustering\n",
        "* Semi - supervised learning - uses both known labels and unknown to make predictions. Used when there is insufficient data e.g self training\n",
        "* Transfer learning - a model trained on a first task is reused as a starting point of a second task. You finetune it for the next task, useful to create better models from minimal data \n",
        "*Reinforcement learning - allows agents to learn from the environment by taking action and receiving rewards for the actions they have taken. Goal is to maximize the rewards achieving optimization\n",
        "\n",
        "### What is deep learning currently used for \n",
        "* You can use ML for practically anything as long as you can convert the problem into numbers and program it to find patterns\n",
        "* computer vision\n",
        "* Natural Language Processing\n",
        "* Voice recognition\n",
        "* Object detection e.t.c\n",
        "* Can be generalised into classifications and regression problems\n",
        "\n",
        "### Pytorch\n",
        "* Used to create deep neural networks with GPU acceleration\n",
        "* Provides a rich ecosystem of tools and libraries to easily develop deep neural networks\n",
        "* most popular research ml framework\n",
        "* Most widely used especially with big companies like Meta, OpenAI, tesla\n",
        "\n",
        "### Cuda\n",
        "* developed by NVIDIA for general computing on its own GPUs\n",
        "* enables dramatic increases in computing performance by harnessing the power of the GPU’s thousands of cores to process multiple tasks simultaneously.\n"
      ],
      "metadata": {
        "id": "tu-ruLNFJE4r"
      }
    },
    {
      "cell_type": "markdown",
      "source": [
        "### Tensors\n"
      ],
      "metadata": {
        "id": "uFkzDliyvn0e"
      }
    },
    {
      "cell_type": "code",
      "source": [],
      "metadata": {
        "id": "sxU968HUJN7a"
      },
      "execution_count": null,
      "outputs": []
    }
  ]
}